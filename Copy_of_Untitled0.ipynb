{
  "nbformat": 4,
  "nbformat_minor": 0,
  "metadata": {
    "colab": {
      "provenance": []
    },
    "kernelspec": {
      "name": "python3",
      "display_name": "Python 3"
    },
    "language_info": {
      "name": "python"
    }
  },
  "cells": [
    {
      "cell_type": "code",
      "source": [
        "import pandas as pd\n",
        "\n",
        "# Read the CSV file into a DataFrame\n",
        "df = pd.read_csv(\"line downtime.csv\")\n",
        "\n",
        "# Replace empty or missing cells with a dash\n",
        "df.fillna(\"-\", inplace=True)\n",
        "\n",
        "#  Save the updated DataFrame back to the CSV\n",
        "df.to_csv(\"updated_downtime.csv\", index=False)\n",
        "\n",
        "print(\"Empty cells have been replaced with a dash!\")\n",
        "\n"
      ],
      "metadata": {
        "colab": {
          "base_uri": "https://localhost:8080/"
        },
        "id": "cnUq8J9V1wQA",
        "outputId": "884f50bd-d70f-4b9c-b38d-67df4b2eff8d"
      },
      "execution_count": null,
      "outputs": [
        {
          "output_type": "stream",
          "name": "stdout",
          "text": [
            "Empty cells have been replaced with a dash!\n"
          ]
        },
        {
          "output_type": "stream",
          "name": "stderr",
          "text": [
            "<ipython-input-62-c255e0148152>:7: FutureWarning: Setting an item of incompatible dtype is deprecated and will raise an error in a future version of pandas. Value '-' has dtype incompatible with float64, please explicitly cast to a compatible dtype first.\n",
            "  df.fillna(\"-\", inplace=True)\n"
          ]
        }
      ]
    },
    {
      "cell_type": "code",
      "source": [
        "# Display the updated DataFrame\n",
        "print(df)\n"
      ],
      "metadata": {
        "colab": {
          "base_uri": "https://localhost:8080/"
        },
        "id": "Sz677b4T2IaY",
        "outputId": "e0164f98-4deb-439a-bdc8-63542304c637"
      },
      "execution_count": null,
      "outputs": [
        {
          "output_type": "stream",
          "name": "stdout",
          "text": [
            "     Batch emergency stop batch change labelling error inventory shortage  \\\n",
            "0   422111              -         60.0               -                  -   \n",
            "1   422112              -         20.0               -                  -   \n",
            "2   422113              -         50.0               -                  -   \n",
            "3   422114              -            -               -               25.0   \n",
            "4   422115              -            -               -                  -   \n",
            "5   422116              -            -               -                  -   \n",
            "6   422117              -         10.0               -                  -   \n",
            "7   422118              -            -               -                  -   \n",
            "8   422119              -            -               -               25.0   \n",
            "9   422120              -            -               -               20.0   \n",
            "10  422121              -            -               -                  -   \n",
            "11  422122              -            -               -                  -   \n",
            "12  422123              -            -               -               43.0   \n",
            "13  422124              -            -               -                  -   \n",
            "14  422125              -            -               -                  -   \n",
            "15  422126              -            -               -                  -   \n",
            "16  422127              -            -               -                  -   \n",
            "17  422128              -            -               -                  -   \n",
            "18  422129              -            -               -                  -   \n",
            "19  422130              -         20.0               -                  -   \n",
            "20  422131              -            -               -               20.0   \n",
            "21  422132              -            -               -                  -   \n",
            "22  422133              -            -               -                  -   \n",
            "23  422134              -            -               -                  -   \n",
            "24  422135              -            -               -               30.0   \n",
            "25  422136              -            -               -                  -   \n",
            "26  422137              -            -               -                  -   \n",
            "27  422138              -            -            20.0                  -   \n",
            "28  422139              -            -               -               20.0   \n",
            "29  422140              -            -               -                  -   \n",
            "30  422141              -            -               -                  -   \n",
            "31  422142              -            -               -                  -   \n",
            "32  422143              -            -               -                  -   \n",
            "33  422144              -            -               -                  -   \n",
            "34  422145              -            -            22.0                  -   \n",
            "35  422146              -            -               -                  -   \n",
            "36  422147              -            -               -               17.0   \n",
            "37  422148              -            -               -               25.0   \n",
            "\n",
            "   product spill machine adjustement machine failure  batch coding error  \\\n",
            "0              -                   -             15.0                  -   \n",
            "1              -                   -                -               20.0   \n",
            "2              -                   -                -                  -   \n",
            "3              -                15.0                -                  -   \n",
            "4              -                   -                -                  -   \n",
            "5              -                   -                -                  -   \n",
            "6              -                 5.0                -                  -   \n",
            "7              -                14.0             16.0                  -   \n",
            "8              -                   -                -                  -   \n",
            "9           15.0                   -                -                  -   \n",
            "10             -                   -             15.0                  -   \n",
            "11             -                   -             25.0                  -   \n",
            "12             -                   -             30.0                  -   \n",
            "13          20.0                20.0                -                  -   \n",
            "14             -                   -                -                  -   \n",
            "15             -                   -                -               44.0   \n",
            "16             -                23.0                -                  -   \n",
            "17          22.0                   -             30.0                  -   \n",
            "18             -                   -                -                  -   \n",
            "19             -                   -                -                  -   \n",
            "20             -                   -                -                  -   \n",
            "21             -                   -                -                  -   \n",
            "22             -                   -             20.0                  -   \n",
            "23             -                   -             30.0               20.0   \n",
            "24             -                   -                -                  -   \n",
            "25             -                   -                -                  -   \n",
            "26             -                   -                -               30.0   \n",
            "27             -                   -                -                  -   \n",
            "28             -                15.0                -                  -   \n",
            "29             -                50.0                -                  -   \n",
            "30             -                   -                -                  -   \n",
            "31             -                30.0                -                  -   \n",
            "32             -                40.0             18.0                  -   \n",
            "33             -                30.0                -               24.0   \n",
            "34             -                   -                -                  -   \n",
            "35             -                30.0             25.0                  -   \n",
            "36             -                60.0             30.0                  -   \n",
            "37             -                   -                -                7.0   \n",
            "\n",
            "   conveyor belt jam calibration error label switch  other  \n",
            "0                  -                 -             -     -  \n",
            "1                  -                 -             -     -  \n",
            "2                  -                 -             -     -  \n",
            "3                  -                 -             -     -  \n",
            "4                  -              24.0             -     -  \n",
            "5                  -                 -             -     -  \n",
            "6                  -                 -             -     -  \n",
            "7                  -                 -          10.0  20.0  \n",
            "8                  -                 -             -     -  \n",
            "9               17.0                 -             -     -  \n",
            "10                 -                 -             -     -  \n",
            "11                 -                 -             -     -  \n",
            "12                 -                 -             -     -  \n",
            "13                 -                 -             -     -  \n",
            "14                 -                 -          10.0  10.0  \n",
            "15                 -                 -             -     -  \n",
            "16                 -                 -             -     -  \n",
            "17                 -                 -             -     -  \n",
            "18                 -                 -             -  15.0  \n",
            "19                 -                 -             -     -  \n",
            "20                 -              10.0             -     -  \n",
            "21                 -                 -             -     -  \n",
            "22                 -                 -             -     -  \n",
            "23                 -                 -             -     -  \n",
            "24                 -                 -             -  15.0  \n",
            "25                 -                 -             -     -  \n",
            "26                 -              15.0             -     -  \n",
            "27                 -                 -             -     -  \n",
            "28                 -                 -             -     -  \n",
            "29                 -                 -          13.0     -  \n",
            "30                 -                 -             -   7.0  \n",
            "31                 -                 -             -     -  \n",
            "32                 -                 -             -     -  \n",
            "33                 -                 -             -     -  \n",
            "34                 -                 -             -     -  \n",
            "35                 -                 -             -   7.0  \n",
            "36                 -                 -             -     -  \n",
            "37                 -                 -             -     -  \n"
          ]
        }
      ]
    },
    {
      "cell_type": "code",
      "source": [
        "def convert_to_minutes(number):\n",
        "    minutes = number * 60\n",
        "    return f\"{number} hour(s) equals {minutes} minute(s).\""
      ],
      "metadata": {
        "id": "aKyqMXH8_Mro"
      },
      "execution_count": null,
      "outputs": []
    },
    {
      "cell_type": "code",
      "source": [
        "def format_minutes(number):\n",
        "    return f\"{int(number)} min.\""
      ],
      "metadata": {
        "id": "bDwgtVME_oXS"
      },
      "execution_count": null,
      "outputs": []
    },
    {
      "cell_type": "code",
      "source": [
        "# Function to format numbers\n",
        "def format_minutes(number):\n",
        "    try:\n",
        "        return f\"{int(number)} min.\"\n",
        "    except ValueError:\n",
        "        return number  # Return the original value if it cannot be converted to an integer\n",
        "\n",
        "# Apply the function to all columns starting from the second column\n",
        "df.iloc[:, 1:] = df.iloc[:, 1:].applymap(format_minutes)\n",
        "\n",
        "# Display the updated DataFrame\n",
        "print(df)"
      ],
      "metadata": {
        "colab": {
          "base_uri": "https://localhost:8080/"
        },
        "id": "35r0ta15_XWT",
        "outputId": "65ad4083-902f-4985-919f-7aa5992dcaa0"
      },
      "execution_count": null,
      "outputs": [
        {
          "output_type": "stream",
          "name": "stdout",
          "text": [
            "     Batch emergency stop batch change labelling error inventory shortage  \\\n",
            "0   422111              -      60 min.               -                  -   \n",
            "1   422112              -      20 min.               -                  -   \n",
            "2   422113              -      50 min.               -                  -   \n",
            "3   422114              -            -               -            25 min.   \n",
            "4   422115              -            -               -                  -   \n",
            "5   422116              -            -               -                  -   \n",
            "6   422117              -      10 min.               -                  -   \n",
            "7   422118              -            -               -                  -   \n",
            "8   422119              -            -               -            25 min.   \n",
            "9   422120              -            -               -            20 min.   \n",
            "10  422121              -            -               -                  -   \n",
            "11  422122              -            -               -                  -   \n",
            "12  422123              -            -               -            43 min.   \n",
            "13  422124              -            -               -                  -   \n",
            "14  422125              -            -               -                  -   \n",
            "15  422126              -            -               -                  -   \n",
            "16  422127              -            -               -                  -   \n",
            "17  422128              -            -               -                  -   \n",
            "18  422129              -            -               -                  -   \n",
            "19  422130              -      20 min.               -                  -   \n",
            "20  422131              -            -               -            20 min.   \n",
            "21  422132              -            -               -                  -   \n",
            "22  422133              -            -               -                  -   \n",
            "23  422134              -            -               -                  -   \n",
            "24  422135              -            -               -            30 min.   \n",
            "25  422136              -            -               -                  -   \n",
            "26  422137              -            -               -                  -   \n",
            "27  422138              -            -         20 min.                  -   \n",
            "28  422139              -            -               -            20 min.   \n",
            "29  422140              -            -               -                  -   \n",
            "30  422141              -            -               -                  -   \n",
            "31  422142              -            -               -                  -   \n",
            "32  422143              -            -               -                  -   \n",
            "33  422144              -            -               -                  -   \n",
            "34  422145              -            -         22 min.                  -   \n",
            "35  422146              -            -               -                  -   \n",
            "36  422147              -            -               -            17 min.   \n",
            "37  422148              -            -               -            25 min.   \n",
            "\n",
            "   product spill machine adjustement machine failure  batch coding error  \\\n",
            "0              -                   -          15 min.                  -   \n",
            "1              -                   -                -            20 min.   \n",
            "2              -                   -                -                  -   \n",
            "3              -             15 min.                -                  -   \n",
            "4              -                   -                -                  -   \n",
            "5              -                   -                -                  -   \n",
            "6              -              5 min.                -                  -   \n",
            "7              -             14 min.          16 min.                  -   \n",
            "8              -                   -                -                  -   \n",
            "9        15 min.                   -                -                  -   \n",
            "10             -                   -          15 min.                  -   \n",
            "11             -                   -          25 min.                  -   \n",
            "12             -                   -          30 min.                  -   \n",
            "13       20 min.             20 min.                -                  -   \n",
            "14             -                   -                -                  -   \n",
            "15             -                   -                -            44 min.   \n",
            "16             -             23 min.                -                  -   \n",
            "17       22 min.                   -          30 min.                  -   \n",
            "18             -                   -                -                  -   \n",
            "19             -                   -                -                  -   \n",
            "20             -                   -                -                  -   \n",
            "21             -                   -                -                  -   \n",
            "22             -                   -          20 min.                  -   \n",
            "23             -                   -          30 min.            20 min.   \n",
            "24             -                   -                -                  -   \n",
            "25             -                   -                -                  -   \n",
            "26             -                   -                -            30 min.   \n",
            "27             -                   -                -                  -   \n",
            "28             -             15 min.                -                  -   \n",
            "29             -             50 min.                -                  -   \n",
            "30             -                   -                -                  -   \n",
            "31             -             30 min.                -                  -   \n",
            "32             -             40 min.          18 min.                  -   \n",
            "33             -             30 min.                -            24 min.   \n",
            "34             -                   -                -                  -   \n",
            "35             -             30 min.          25 min.                  -   \n",
            "36             -             60 min.          30 min.                  -   \n",
            "37             -                   -                -             7 min.   \n",
            "\n",
            "   conveyor belt jam calibration error label switch     other  \n",
            "0                  -                 -             -        -  \n",
            "1                  -                 -             -        -  \n",
            "2                  -                 -             -        -  \n",
            "3                  -                 -             -        -  \n",
            "4                  -           24 min.             -        -  \n",
            "5                  -                 -             -        -  \n",
            "6                  -                 -             -        -  \n",
            "7                  -                 -       10 min.  20 min.  \n",
            "8                  -                 -             -        -  \n",
            "9            17 min.                 -             -        -  \n",
            "10                 -                 -             -        -  \n",
            "11                 -                 -             -        -  \n",
            "12                 -                 -             -        -  \n",
            "13                 -                 -             -        -  \n",
            "14                 -                 -       10 min.  10 min.  \n",
            "15                 -                 -             -        -  \n",
            "16                 -                 -             -        -  \n",
            "17                 -                 -             -        -  \n",
            "18                 -                 -             -  15 min.  \n",
            "19                 -                 -             -        -  \n",
            "20                 -           10 min.             -        -  \n",
            "21                 -                 -             -        -  \n",
            "22                 -                 -             -        -  \n",
            "23                 -                 -             -        -  \n",
            "24                 -                 -             -  15 min.  \n",
            "25                 -                 -             -        -  \n",
            "26                 -           15 min.             -        -  \n",
            "27                 -                 -             -        -  \n",
            "28                 -                 -             -        -  \n",
            "29                 -                 -       13 min.        -  \n",
            "30                 -                 -             -   7 min.  \n",
            "31                 -                 -             -        -  \n",
            "32                 -                 -             -        -  \n",
            "33                 -                 -             -        -  \n",
            "34                 -                 -             -        -  \n",
            "35                 -                 -             -   7 min.  \n",
            "36                 -                 -             -        -  \n",
            "37                 -                 -             -        -  \n"
          ]
        },
        {
          "output_type": "stream",
          "name": "stderr",
          "text": [
            "<ipython-input-76-dfc4cd53167e>:9: FutureWarning: DataFrame.applymap has been deprecated. Use DataFrame.map instead.\n",
            "  df.iloc[:, 1:] = df.iloc[:, 1:].applymap(format_minutes)\n"
          ]
        }
      ]
    },
    {
      "cell_type": "code",
      "source": [
        "# Save the cleaned DataFrame to a CSV file\n",
        "df.to_csv(\"cleaned_data.csv\", index=False)"
      ],
      "metadata": {
        "id": "4m3CAtTk260y"
      },
      "execution_count": null,
      "outputs": []
    }
  ]
}